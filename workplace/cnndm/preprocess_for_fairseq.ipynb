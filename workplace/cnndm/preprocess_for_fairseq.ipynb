{
 "cells": [
  {
   "cell_type": "code",
   "execution_count": null,
   "metadata": {},
   "outputs": [],
   "source": [
    "# preprocess data for fairseq using\n",
    "\n",
    "dest_dir = 'preprocessed_for_fairseq/'\n",
    "delimiter = '<summ-content>'\n",
    "modes = ['test', 'val', 'train']\n",
    "\n",
    "for mode in modes:\n",
    "    source = mode + '.txt'\n",
    "    dest_sum = dest_dir + mode + '_cnndm.sum'\n",
    "    dest_doc = dest_dir + mode + '_cnndm.doc'\n",
    "\n",
    "    with open(source) as so, open(dest_sum, 'w') as ds, open(dest_doc, 'w') as dd:\n",
    "        for l in so:\n",
    "            s, d = l.split(delimiter)\n",
    "            ds.write(s + '\\n')\n",
    "            dd.write(d + '\\n')"
   ]
  },
  {
   "cell_type": "code",
   "execution_count": 12,
   "metadata": {},
   "outputs": [
    {
     "name": "stdout",
     "output_type": "stream",
     "text": [
      "/Users/nakamura\n"
     ]
    }
   ],
   "source": [
    "%%script zsh\n",
    "cd ../../\n",
    "TEXT=~/Data/cnndm-pj/preprocessed_for_fairseq\n",
    "python CLI/preprocess.py --source-lang doc --target-lang sum \\\n",
    "--trainpref $TEXT/train --validpref $TEXT/val --testpref $TEXT/test \\\n",
    "--destdir fairseq/data-bin/cnndm-pj"
   ]
  }
 ],
 "metadata": {
  "kernelspec": {
   "display_name": "Python 3",
   "language": "python",
   "name": "python3"
  },
  "language_info": {
   "codemirror_mode": {
    "name": "ipython",
    "version": 3
   },
   "file_extension": ".py",
   "mimetype": "text/x-python",
   "name": "python",
   "nbconvert_exporter": "python",
   "pygments_lexer": "ipython3",
   "version": "3.7.4"
  }
 },
 "nbformat": 4,
 "nbformat_minor": 2
}
